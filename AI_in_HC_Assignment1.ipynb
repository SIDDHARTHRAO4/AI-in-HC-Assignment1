{
  "nbformat": 4,
  "nbformat_minor": 0,
  "metadata": {
    "colab": {
      "provenance": []
    },
    "kernelspec": {
      "name": "python3",
      "display_name": "Python 3"
    },
    "language_info": {
      "name": "python"
    }
  },
  "cells": [
    {
      "cell_type": "markdown",
      "source": [],
      "metadata": {
        "id": "si1l7RWut2_U"
      }
    },
    {
      "cell_type": "markdown",
      "source": [
        "Part-1: a. Write a program to print Hello World using TensorFlow.\n",
        "        b. Perform basic Mathematical operations\n",
        "        "
      ],
      "metadata": {
        "id": "Dv4gJqlztqi3"
      }
    },
    {
      "cell_type": "code",
      "source": [
        "import tensorflow as tf\n"
      ],
      "metadata": {
        "id": "2yQ6_vUMb6SZ"
      },
      "execution_count": null,
      "outputs": []
    },
    {
      "cell_type": "code",
      "source": [
        "hello= tf.constant(\"hello world\")\n",
        "print(hello)"
      ],
      "metadata": {
        "colab": {
          "base_uri": "https://localhost:8080/"
        },
        "id": "URE6oP97dEqo",
        "outputId": "97f5a957-962a-43fa-c223-56972a8ec3f9"
      },
      "execution_count": null,
      "outputs": [
        {
          "output_type": "stream",
          "name": "stdout",
          "text": [
            "tf.Tensor(b'hello world', shape=(), dtype=string)\n"
          ]
        }
      ]
    },
    {
      "cell_type": "code",
      "source": [
        "print(hello.numpy())"
      ],
      "metadata": {
        "colab": {
          "base_uri": "https://localhost:8080/"
        },
        "id": "EGqk8pxtdQq-",
        "outputId": "496068e7-180d-47b0-c3a1-8f3a3453eba0"
      },
      "execution_count": null,
      "outputs": [
        {
          "output_type": "stream",
          "name": "stdout",
          "text": [
            "b'hello world'\n"
          ]
        }
      ]
    },
    {
      "cell_type": "code",
      "source": [
        "a= tf.constant(2)\n",
        "b= tf.constant(3)\n",
        "c= tf.constant(5)"
      ],
      "metadata": {
        "id": "CMltDxmLddde"
      },
      "execution_count": null,
      "outputs": []
    },
    {
      "cell_type": "code",
      "source": [
        "add= tf. add(a,b)\n",
        "sub= tf.subtract(a,b)\n",
        "mul= tf.multiply(a,b)\n",
        "div= tf.divide(a,b)"
      ],
      "metadata": {
        "id": "wLN7YNoedwQz"
      },
      "execution_count": null,
      "outputs": []
    },
    {
      "cell_type": "code",
      "source": [
        "print(\"addition\", add.numpy())\n",
        "print(\"subtraction\", sub.numpy())\n",
        "print(\"multiplication\", mul.numpy())\n",
        "print(\"division\", div.numpy())"
      ],
      "metadata": {
        "colab": {
          "base_uri": "https://localhost:8080/"
        },
        "id": "Rv2B_MDnc8Vv",
        "outputId": "2932e945-cc93-4ecb-ab94-7856f4339daf"
      },
      "execution_count": null,
      "outputs": [
        {
          "output_type": "stream",
          "name": "stdout",
          "text": [
            "addition 5\n",
            "subtraction -1\n",
            "multiplication 6\n",
            "division 0.6666666666666666\n"
          ]
        }
      ]
    },
    {
      "cell_type": "code",
      "source": [
        "mean= tf.reduce_mean([a,b,c])\n",
        "sum= tf.reduce_sum([a,b,c])"
      ],
      "metadata": {
        "id": "NPVigDR9eHcm"
      },
      "execution_count": null,
      "outputs": []
    },
    {
      "cell_type": "code",
      "source": [
        "print(\"mean\", mean.numpy())\n",
        "print(\"sum\", sum.numpy())"
      ],
      "metadata": {
        "colab": {
          "base_uri": "https://localhost:8080/"
        },
        "id": "hwEFkv4ReXl8",
        "outputId": "349507c7-a1fa-4bab-d441-fe378c2b7388"
      },
      "execution_count": null,
      "outputs": [
        {
          "output_type": "stream",
          "name": "stdout",
          "text": [
            "mean 3\n",
            "sum 10\n"
          ]
        }
      ]
    },
    {
      "cell_type": "code",
      "source": [
        "matrix1= tf.constant([[1,2],[3,4]])\n",
        "matrix2= tf.constant([[5,6],[7,8]])\n",
        "product= tf.matmul(matrix1,matrix2)"
      ],
      "metadata": {
        "id": "oHCsA7etehp0"
      },
      "execution_count": null,
      "outputs": []
    },
    {
      "cell_type": "code",
      "source": [
        "product"
      ],
      "metadata": {
        "colab": {
          "base_uri": "https://localhost:8080/"
        },
        "id": "Ib0QHNYjetTe",
        "outputId": "3d92d5d4-e070-4703-c175-9c854b02b864"
      },
      "execution_count": null,
      "outputs": [
        {
          "output_type": "execute_result",
          "data": {
            "text/plain": [
              "<tf.Tensor: shape=(2, 2), dtype=int32, numpy=\n",
              "array([[19, 22],\n",
              "       [43, 50]], dtype=int32)>"
            ]
          },
          "metadata": {},
          "execution_count": 13
        }
      ]
    },
    {
      "cell_type": "code",
      "source": [
        "product.numpy()"
      ],
      "metadata": {
        "colab": {
          "base_uri": "https://localhost:8080/"
        },
        "id": "F9K2knP7fCEl",
        "outputId": "7810eb7f-58af-46c3-9976-54d71d7550ab"
      },
      "execution_count": null,
      "outputs": [
        {
          "output_type": "execute_result",
          "data": {
            "text/plain": [
              "array([[19, 22],\n",
              "       [43, 50]], dtype=int32)"
            ]
          },
          "metadata": {},
          "execution_count": 14
        }
      ]
    },
    {
      "cell_type": "markdown",
      "source": [
        "Part-2: a. Develop a Neural network model by using linear regression\n",
        "by using single feature\n",
        "i.    Y = 3X +2,\n",
        "ii.   Y = 2X,\n",
        "iii.  Y = 2X-1\n"
      ],
      "metadata": {
        "id": "0CEFp_dPuG8v"
      }
    },
    {
      "cell_type": "code",
      "source": [
        "import numpy as np\n",
        "import tensorflow as tf"
      ],
      "metadata": {
        "id": "W0JEYiSCuXUT"
      },
      "execution_count": 1,
      "outputs": []
    },
    {
      "cell_type": "code",
      "source": [
        "x = np.array([1,2,3,4,5], dtype=np.float32)\n",
        "y = np.array([5,8,11,14,17], dtype=np.float32)"
      ],
      "metadata": {
        "id": "2spTKaEqutvM"
      },
      "execution_count": 2,
      "outputs": []
    },
    {
      "cell_type": "code",
      "source": [
        "model = tf.keras.Sequential([\n",
        "      tf.keras.layers.Dense(1, input_shape=(1,))\n",
        "      ])\n"
      ],
      "metadata": {
        "colab": {
          "base_uri": "https://localhost:8080/"
        },
        "id": "E-dXvl2vuvsW",
        "outputId": "de575c60-3bb6-48fd-cae7-54f018a8f4d3"
      },
      "execution_count": 4,
      "outputs": [
        {
          "output_type": "stream",
          "name": "stderr",
          "text": [
            "/usr/local/lib/python3.10/dist-packages/keras/src/layers/core/dense.py:87: UserWarning: Do not pass an `input_shape`/`input_dim` argument to a layer. When using Sequential models, prefer using an `Input(shape)` object as the first layer in the model instead.\n",
            "  super().__init__(activity_regularizer=activity_regularizer, **kwargs)\n"
          ]
        }
      ]
    },
    {
      "cell_type": "code",
      "source": [
        "model.compile(optimizer='sgd', loss='mean_squared_error')"
      ],
      "metadata": {
        "id": "xbeKso5Vu9nU"
      },
      "execution_count": 5,
      "outputs": []
    },
    {
      "cell_type": "code",
      "source": [
        "from re import VERBOSE\n",
        "model.fit(x, y, epochs=100,verbose=0)\n"
      ],
      "metadata": {
        "colab": {
          "base_uri": "https://localhost:8080/"
        },
        "id": "II29DfXxu0Xk",
        "outputId": "17c65fd4-818f-4776-d1e5-6df916914874"
      },
      "execution_count": 6,
      "outputs": [
        {
          "output_type": "execute_result",
          "data": {
            "text/plain": [
              "<keras.src.callbacks.history.History at 0x7f18d5aa19f0>"
            ]
          },
          "metadata": {},
          "execution_count": 6
        }
      ]
    },
    {
      "cell_type": "code",
      "source": [
        "X_new = np.array([6,7,8,], dtype=np.float32)\n",
        "y_new = model.predict(X_new)"
      ],
      "metadata": {
        "colab": {
          "base_uri": "https://localhost:8080/"
        },
        "id": "RvJreHp4vUol",
        "outputId": "9c04748a-1347-45f7-c3d6-eb69ef167989"
      },
      "execution_count": 7,
      "outputs": [
        {
          "output_type": "stream",
          "name": "stdout",
          "text": [
            "\u001b[1m1/1\u001b[0m \u001b[32m━━━━━━━━━━━━━━━━━━━━\u001b[0m\u001b[37m\u001b[0m \u001b[1m0s\u001b[0m 42ms/step\n"
          ]
        }
      ]
    },
    {
      "cell_type": "code",
      "source": [
        "model.fit(x, y, epochs=100,verbose=0)"
      ],
      "metadata": {
        "colab": {
          "base_uri": "https://localhost:8080/"
        },
        "id": "-c8_fFEtvXsf",
        "outputId": "d08ad5bc-8f44-44b4-9356-05cbd92df656"
      },
      "execution_count": 8,
      "outputs": [
        {
          "output_type": "execute_result",
          "data": {
            "text/plain": [
              "<keras.src.callbacks.history.History at 0x7f18d41d3040>"
            ]
          },
          "metadata": {},
          "execution_count": 8
        }
      ]
    },
    {
      "cell_type": "code",
      "source": [
        "model.compile(optimizer='sgd', loss='mean_squared_error')"
      ],
      "metadata": {
        "id": "f96TeWOOvwQL"
      },
      "execution_count": 10,
      "outputs": []
    },
    {
      "cell_type": "code",
      "source": [
        "model.fit(x, y, epochs=100,verbose=0)"
      ],
      "metadata": {
        "colab": {
          "base_uri": "https://localhost:8080/"
        },
        "id": "pjUEsx83v1_G",
        "outputId": "9377ce5e-0b60-4c32-faec-c3b1e99e1929"
      },
      "execution_count": 11,
      "outputs": [
        {
          "output_type": "execute_result",
          "data": {
            "text/plain": [
              "<keras.src.callbacks.history.History at 0x7f18d4241a80>"
            ]
          },
          "metadata": {},
          "execution_count": 11
        }
      ]
    },
    {
      "cell_type": "code",
      "source": [
        "X_new = np.array([6,7,8,], dtype=np.float32)\n",
        "y_new = model.predict(X_new)"
      ],
      "metadata": {
        "colab": {
          "base_uri": "https://localhost:8080/"
        },
        "id": "LyZFdFCTv4Fl",
        "outputId": "1ffbf5f4-ce15-49c0-ff97-88e75bb15f0b"
      },
      "execution_count": 12,
      "outputs": [
        {
          "output_type": "stream",
          "name": "stdout",
          "text": [
            "\u001b[1m1/1\u001b[0m \u001b[32m━━━━━━━━━━━━━━━━━━━━\u001b[0m\u001b[37m\u001b[0m \u001b[1m0s\u001b[0m 47ms/step\n"
          ]
        }
      ]
    },
    {
      "cell_type": "code",
      "source": [
        "X_new = np.array([6,7,8,], dtype=np.float32)\n",
        "predictions = model.predict(X_new)  # Store the predictions\n",
        "print(\"predictions for {6, 7, 8}:\", predictions.squeeze())"
      ],
      "metadata": {
        "colab": {
          "base_uri": "https://localhost:8080/"
        },
        "id": "TA1LhBaLv741",
        "outputId": "68a0a858-a32f-4e5c-801e-88acc087898a"
      },
      "execution_count": 13,
      "outputs": [
        {
          "output_type": "stream",
          "name": "stdout",
          "text": [
            "\u001b[1m1/1\u001b[0m \u001b[32m━━━━━━━━━━━━━━━━━━━━\u001b[0m\u001b[37m\u001b[0m \u001b[1m0s\u001b[0m 24ms/step\n",
            "predictions for {6, 7, 8}: [20.13604  23.192966 26.249895]\n"
          ]
        }
      ]
    },
    {
      "cell_type": "markdown",
      "source": [
        "Part-3. Develop a Neural network model by using linear regression by\n",
        "using single feature\n",
        "\n",
        "i. Y = 3X1 + 2X2 + 1\n",
        "\n"
      ],
      "metadata": {
        "id": "-a-0u8q7wNGw"
      }
    },
    {
      "cell_type": "code",
      "source": [
        "import numpy as np\n",
        "import tensorflow as tf"
      ],
      "metadata": {
        "id": "8SKZfIFawccJ"
      },
      "execution_count": 14,
      "outputs": []
    },
    {
      "cell_type": "code",
      "source": [
        "x1 = np.array([1, 2, 3, 4, 5], dtype=np.float32)\n",
        "x2 = np.array([5, 4, 3, 2, 1], dtype=np.float32)\n",
        "X = np.column_stack((x1, x2))"
      ],
      "metadata": {
        "id": "P7Hsl9jpymRx"
      },
      "execution_count": 15,
      "outputs": []
    },
    {
      "cell_type": "code",
      "source": [
        "y = 3 * x1 + 2 * x2 + 1"
      ],
      "metadata": {
        "id": "caUOS0mEyqUg"
      },
      "execution_count": 16,
      "outputs": []
    },
    {
      "cell_type": "code",
      "source": [
        "model = tf.keras.Sequential()\n",
        "model.add(tf.keras.layers.Dense(1, input_shape=(2,)))"
      ],
      "metadata": {
        "colab": {
          "base_uri": "https://localhost:8080/"
        },
        "id": "SJ8aN7lKyshn",
        "outputId": "0cd49919-00da-4890-906c-a61ebefae5c6"
      },
      "execution_count": 17,
      "outputs": [
        {
          "output_type": "stream",
          "name": "stderr",
          "text": [
            "/usr/local/lib/python3.10/dist-packages/keras/src/layers/core/dense.py:87: UserWarning: Do not pass an `input_shape`/`input_dim` argument to a layer. When using Sequential models, prefer using an `Input(shape)` object as the first layer in the model instead.\n",
            "  super().__init__(activity_regularizer=activity_regularizer, **kwargs)\n"
          ]
        }
      ]
    },
    {
      "cell_type": "code",
      "source": [
        "model.compile(optimizer='sgd', loss='mean_squared_error')"
      ],
      "metadata": {
        "id": "i11vDqy-yuRW"
      },
      "execution_count": 18,
      "outputs": []
    },
    {
      "cell_type": "code",
      "source": [
        "model.fit(X, y, epochs=500, verbose=0)"
      ],
      "metadata": {
        "colab": {
          "base_uri": "https://localhost:8080/"
        },
        "id": "Um6r2COqyvxX",
        "outputId": "367e178a-6a22-4aa3-de98-af15b47ca23a"
      },
      "execution_count": 19,
      "outputs": [
        {
          "output_type": "execute_result",
          "data": {
            "text/plain": [
              "<keras.src.callbacks.history.History at 0x7f18d4241930>"
            ]
          },
          "metadata": {},
          "execution_count": 19
        }
      ]
    },
    {
      "cell_type": "code",
      "source": [
        "X_new = np.array([[6, 0], [7, -1], [8, -2]], dtype=np.float32)"
      ],
      "metadata": {
        "id": "zdlbOnfKy38X"
      },
      "execution_count": 20,
      "outputs": []
    },
    {
      "cell_type": "code",
      "source": [
        "predictions = model.predict(X_new)\n",
        "print(\"Predictions for new inputs:\", predictions.squeeze())"
      ],
      "metadata": {
        "colab": {
          "base_uri": "https://localhost:8080/"
        },
        "id": "WAsuB1s7y6G3",
        "outputId": "a4b8b2d9-1c0b-4485-8695-f5e4f46b7ec5"
      },
      "execution_count": 21,
      "outputs": [
        {
          "output_type": "stream",
          "name": "stdout",
          "text": [
            "\u001b[1m1/1\u001b[0m \u001b[32m━━━━━━━━━━━━━━━━━━━━\u001b[0m\u001b[37m\u001b[0m \u001b[1m0s\u001b[0m 56ms/step\n",
            "Predictions for new inputs: [18.999992 19.99999  20.999989]\n"
          ]
        }
      ]
    }
  ]
}